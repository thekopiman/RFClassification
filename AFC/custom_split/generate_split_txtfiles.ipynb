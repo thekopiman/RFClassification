{
 "cells": [
  {
   "cell_type": "markdown",
   "metadata": {},
   "source": [
    "Keep in mind that the files have to be in this format:\n",
    "\n",
    "#### File name:\n",
    "train_{$number of classes$}.txt\n",
    "\n",
    "val_{$number of classes$}.txt\n",
    "\n",
    "#### Inside each file:\n",
    "{path of each img relative to data_path} {class} \\n"
   ]
  },
  {
   "cell_type": "code",
   "execution_count": 1,
   "metadata": {
    "tags": []
   },
   "outputs": [],
   "source": [
    "import glob\n",
    "import os\n",
    "import yaml\n",
    "data_path = \"/home/jovyan/AFC/sample_signals\"\n",
    "DEST = os.getcwd() \n",
    "yaml_file = \"/home/jovyan/yolov5/transfer_learning/spectrogram_v3.yaml\"\n",
    "\n",
    "with open(yaml_file) as file:\n",
    "    _ = yaml.safe_load(file)\n",
    "\n",
    "num_to_name = _['names']\n",
    "name_to_num = {v: k for k, v in num_to_name.items()}\n",
    "\n",
    "# Assuming that we have a 70:20:10 split\n",
    "\n",
    "# string - /* or \\*\n",
    "suffix = \"\\*\" if os.name == 'nt' else \"/*\"\n",
    "complete_data = {i: [] for i in range(18)}\n",
    "\n",
    "for folder in glob.glob(data_path + suffix):\n",
    "    index_name = folder.replace(data_path, \"\")[1:]\n",
    "    index = name_to_num[index_name]\n",
    "    for file_name in glob.glob(folder + suffix):\n",
    "        complete_data[index].append(file_name.replace(data_path, \"\")[1:])\n",
    "\n",
    "\n",
    "with open(os.path.join(DEST,'train_18.txt'), \"w\") as w:\n",
    "    for key in complete_data:\n",
    "        size = len(complete_data[key])\n",
    "        w.writelines(f\"{line} {key}\" + '\\n' for line in complete_data[key][:int(0.7*size)])\n",
    "\n",
    "with open(os.path.join(DEST,'val_18.txt'), \"w\") as w:\n",
    "    for key in complete_data:\n",
    "        size = len(complete_data[key])\n",
    "        w.writelines(f\"{line} {key}\" + '\\n' for line in complete_data[key][int(0.7*size): int(0.9*size)])\n",
    "\n",
    "with open(os.path.join(DEST,'test_18.txt'), \"w\") as w:\n",
    "    for key in complete_data:\n",
    "        size = len(complete_data[key])\n",
    "        w.writelines(f\"{line} {key}\" + '\\n' for line in complete_data[key][int(0.9*size):])"
   ]
  },
  {
   "cell_type": "code",
   "execution_count": null,
   "metadata": {},
   "outputs": [],
   "source": []
  }
 ],
 "metadata": {
  "kernelspec": {
   "display_name": "Python 3 (ipykernel)",
   "language": "python",
   "name": "python3"
  },
  "language_info": {
   "codemirror_mode": {
    "name": "ipython",
    "version": 3
   },
   "file_extension": ".py",
   "mimetype": "text/x-python",
   "name": "python",
   "nbconvert_exporter": "python",
   "pygments_lexer": "ipython3",
   "version": "3.8.10"
  }
 },
 "nbformat": 4,
 "nbformat_minor": 4
}
