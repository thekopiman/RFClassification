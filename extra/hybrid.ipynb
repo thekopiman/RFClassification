{
 "cells": [
  {
   "cell_type": "code",
   "execution_count": 1,
   "id": "697701c9-01e4-4eb4-8743-5890462797d6",
   "metadata": {
    "tags": []
   },
   "outputs": [],
   "source": [
    "import os\n",
    "import glob"
   ]
  },
  {
   "cell_type": "markdown",
   "id": "7ced74f1-48d1-4013-a7e6-4b583a553abb",
   "metadata": {},
   "source": [
    "Enable YOLO stuff"
   ]
  },
  {
   "cell_type": "code",
   "execution_count": 11,
   "id": "4795cca3-9648-4903-b5e8-ac6e806058c7",
   "metadata": {
    "tags": []
   },
   "outputs": [
    {
     "name": "stderr",
     "output_type": "stream",
     "text": [
      "WARNING ⚠️ 'ultralytics.yolo.v8' is deprecated since '8.0.136' and will be removed in '8.1.0'. Please use 'ultralytics.models.yolo' instead.\n",
      "WARNING ⚠️ 'ultralytics.yolo.utils' is deprecated since '8.0.136' and will be removed in '8.1.0'. Please use 'ultralytics.utils' instead.\n",
      "Note this warning may be related to loading older models. You can update your model to current structure with:\n",
      "    import torch\n",
      "    ckpt = torch.load(\"model.pt\")  # applies to both official and custom models\n",
      "    torch.save(ckpt, \"updated-model.pt\")\n",
      "\n"
     ]
    }
   ],
   "source": [
    "import sys\n",
    "sys.path.append('./yolov5')\n",
    "from yolov5.detection import Detection\n",
    "import numpy as np\n",
    "\n",
    "class Detection(Detection):\n",
    "    def __init__(\n",
    "        self,\n",
    "        yaml_file=None,\n",
    "        to_slice=True,\n",
    "        dataset_path=None,  # Directory, not the individual png file\n",
    "        model_path=None,\n",
    "    ):\n",
    "        \"\"\"\n",
    "        data_utils and detection.py have to be inside yolov5 folder\n",
    "\n",
    "        ** Future work: Analyse annotate to obtain various detected information.\n",
    "\n",
    "        Input: yaml_file, to_slice, dataset_path, model_path\n",
    "        Output: None\n",
    "        \"\"\"\n",
    "        super().__init__(self, yaml_file, to_slice, dataset_path, model_path)\n",
    "    \n",
    "    def predict(self, model: any, inputs: np.array) -> list:\n",
    "        res = []\n",
    "        \n",
    "        \n",
    "        return res\n",
    "        \n"
   ]
  },
  {
   "cell_type": "code",
   "execution_count": 8,
   "id": "43dd78f2-18b5-4c45-b7a2-008a98e67272",
   "metadata": {
    "tags": []
   },
   "outputs": [
    {
     "data": {
      "text/plain": [
       "['__class__',\n",
       " '__delattr__',\n",
       " '__dict__',\n",
       " '__dir__',\n",
       " '__doc__',\n",
       " '__eq__',\n",
       " '__format__',\n",
       " '__ge__',\n",
       " '__getattribute__',\n",
       " '__gt__',\n",
       " '__hash__',\n",
       " '__init__',\n",
       " '__init_subclass__',\n",
       " '__le__',\n",
       " '__lt__',\n",
       " '__module__',\n",
       " '__ne__',\n",
       " '__new__',\n",
       " '__reduce__',\n",
       " '__reduce_ex__',\n",
       " '__repr__',\n",
       " '__setattr__',\n",
       " '__sizeof__',\n",
       " '__str__',\n",
       " '__subclasshook__',\n",
       " '__weakref__',\n",
       " '_cache_bytecode',\n",
       " 'contents',\n",
       " 'create_module',\n",
       " 'exec_module',\n",
       " 'get_code',\n",
       " 'get_data',\n",
       " 'get_filename',\n",
       " 'get_resource_reader',\n",
       " 'get_source',\n",
       " 'is_package',\n",
       " 'is_resource',\n",
       " 'load_module',\n",
       " 'name',\n",
       " 'open_resource',\n",
       " 'path',\n",
       " 'path_mtime',\n",
       " 'path_stats',\n",
       " 'resource_path',\n",
       " 'set_data',\n",
       " 'source_to_code']"
      ]
     },
     "execution_count": 8,
     "metadata": {},
     "output_type": "execute_result"
    }
   ],
   "source": []
  },
  {
   "cell_type": "code",
   "execution_count": null,
   "id": "c843d251-61c0-4ae4-bacb-590522e2d80c",
   "metadata": {},
   "outputs": [],
   "source": []
  }
 ],
 "metadata": {
  "kernelspec": {
   "display_name": "Python 3 (ipykernel)",
   "language": "python",
   "name": "python3"
  },
  "language_info": {
   "codemirror_mode": {
    "name": "ipython",
    "version": 3
   },
   "file_extension": ".py",
   "mimetype": "text/x-python",
   "name": "python",
   "nbconvert_exporter": "python",
   "pygments_lexer": "ipython3",
   "version": "3.8.10"
  }
 },
 "nbformat": 4,
 "nbformat_minor": 5
}
