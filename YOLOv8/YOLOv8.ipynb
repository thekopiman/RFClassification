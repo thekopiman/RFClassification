{
 "cells": [
  {
   "cell_type": "code",
   "execution_count": 1,
   "id": "afc2360b-4edf-409d-98d8-4c4aab49691c",
   "metadata": {
    "tags": []
   },
   "outputs": [
    {
     "name": "stdout",
     "output_type": "stream",
     "text": [
      "Looking in indexes: http://192.168.16.2:8080/root/pypi/+simple/, https://pypi.ngc.nvidia.com\n",
      "Requirement already satisfied: tqdm in /usr/local/lib/python3.8/dist-packages (4.65.0)\n",
      "\u001b[33mWARNING: Running pip as the 'root' user can result in broken permissions and conflicting behaviour with the system package manager. It is recommended to use a virtual environment instead: https://pip.pypa.io/warnings/venv\u001b[0m\n",
      "\u001b[33mWARNING: You are using pip version 21.2.4; however, version 23.2 is available.\n",
      "You should consider upgrading via the '/usr/bin/python -m pip install --upgrade pip' command.\u001b[0m\n"
     ]
    }
   ],
   "source": [
    "import os \n",
    "import shutil\n",
    "import random \n",
    "\n",
    "!pip install tqdm --upgrade\n",
    "from tqdm.notebook import tqdm"
   ]
  },
  {
   "cell_type": "code",
   "execution_count": 2,
   "id": "df505eef-c73e-4d4f-a6f6-5535d912bf3d",
   "metadata": {
    "tags": []
   },
   "outputs": [],
   "source": [
    "train_path_img = \"/home/jovyan/YOLOv8/yolo-data/images/train\"\n",
    "train_path_label = \"/home/jovyan/YOLOv8/yolo-data/labels/train\"\n",
    "val_path_img = \"/home/jovyan/YOLOv8/yolo-data/images/eval\"\n",
    "val_path_label = \"/home/jovyan/YOLOv8/yolo-data/labels/eval\"\n",
    "test_path = \"/home/jovyan/YOLOv8/yolo-data/images/test\""
   ]
  },
  {
   "cell_type": "code",
   "execution_count": 3,
   "id": "f44cca5d-6f91-410d-bba6-5258469a0562",
   "metadata": {
    "tags": []
   },
   "outputs": [
    {
     "ename": "KeyboardInterrupt",
     "evalue": "",
     "output_type": "error",
     "traceback": [
      "\u001b[0;31m---------------------------------------------------------------------------\u001b[0m",
      "\u001b[0;31mKeyboardInterrupt\u001b[0m                         Traceback (most recent call last)",
      "Cell \u001b[0;32mIn[3], line 44\u001b[0m\n\u001b[1;32m     42\u001b[0m     dest_folder \u001b[38;5;241m=\u001b[39m test_folder\n\u001b[1;32m     43\u001b[0m     labe_dest_folder \u001b[38;5;241m=\u001b[39m test_folder_label\n\u001b[0;32m---> 44\u001b[0m \u001b[43mshutil\u001b[49m\u001b[38;5;241;43m.\u001b[39;49m\u001b[43mcopy\u001b[49m\u001b[43m(\u001b[49m\u001b[43mos\u001b[49m\u001b[38;5;241;43m.\u001b[39;49m\u001b[43mpath\u001b[49m\u001b[38;5;241;43m.\u001b[39;49m\u001b[43mjoin\u001b[49m\u001b[43m(\u001b[49m\u001b[43mpath\u001b[49m\u001b[43m,\u001b[49m\u001b[43m \u001b[49m\u001b[43mf\u001b[49m\u001b[43m)\u001b[49m\u001b[43m,\u001b[49m\u001b[43m \u001b[49m\u001b[43mos\u001b[49m\u001b[38;5;241;43m.\u001b[39;49m\u001b[43mpath\u001b[49m\u001b[38;5;241;43m.\u001b[39;49m\u001b[43mjoin\u001b[49m\u001b[43m(\u001b[49m\u001b[43mdest_folder\u001b[49m\u001b[43m,\u001b[49m\u001b[43m \u001b[49m\u001b[43mf\u001b[49m\u001b[43m)\u001b[49m\u001b[43m)\u001b[49m\n\u001b[1;32m     45\u001b[0m f \u001b[38;5;241m=\u001b[39m f\u001b[38;5;241m.\u001b[39mreplace(\u001b[38;5;124m\"\u001b[39m\u001b[38;5;124m.png\u001b[39m\u001b[38;5;124m\"\u001b[39m, \u001b[38;5;124m\"\u001b[39m\u001b[38;5;124m.txt\u001b[39m\u001b[38;5;124m\"\u001b[39m)\n\u001b[1;32m     46\u001b[0m shutil\u001b[38;5;241m.\u001b[39mcopy(os\u001b[38;5;241m.\u001b[39mpath\u001b[38;5;241m.\u001b[39mjoin(label_path, f), os\u001b[38;5;241m.\u001b[39mpath\u001b[38;5;241m.\u001b[39mjoin(label_dest_folder, f))\n",
      "File \u001b[0;32m/usr/lib/python3.8/shutil.py:419\u001b[0m, in \u001b[0;36mcopy\u001b[0;34m(src, dst, follow_symlinks)\u001b[0m\n\u001b[1;32m    417\u001b[0m     dst \u001b[38;5;241m=\u001b[39m os\u001b[38;5;241m.\u001b[39mpath\u001b[38;5;241m.\u001b[39mjoin(dst, os\u001b[38;5;241m.\u001b[39mpath\u001b[38;5;241m.\u001b[39mbasename(src))\n\u001b[1;32m    418\u001b[0m copyfile(src, dst, follow_symlinks\u001b[38;5;241m=\u001b[39mfollow_symlinks)\n\u001b[0;32m--> 419\u001b[0m \u001b[43mcopymode\u001b[49m\u001b[43m(\u001b[49m\u001b[43msrc\u001b[49m\u001b[43m,\u001b[49m\u001b[43m \u001b[49m\u001b[43mdst\u001b[49m\u001b[43m,\u001b[49m\u001b[43m \u001b[49m\u001b[43mfollow_symlinks\u001b[49m\u001b[38;5;241;43m=\u001b[39;49m\u001b[43mfollow_symlinks\u001b[49m\u001b[43m)\u001b[49m\n\u001b[1;32m    420\u001b[0m \u001b[38;5;28;01mreturn\u001b[39;00m dst\n",
      "File \u001b[0;32m/usr/lib/python3.8/shutil.py:308\u001b[0m, in \u001b[0;36mcopymode\u001b[0;34m(src, dst, follow_symlinks)\u001b[0m\n\u001b[1;32m    305\u001b[0m     stat_func, chmod_func \u001b[38;5;241m=\u001b[39m _stat, os\u001b[38;5;241m.\u001b[39mchmod\n\u001b[1;32m    307\u001b[0m st \u001b[38;5;241m=\u001b[39m stat_func(src)\n\u001b[0;32m--> 308\u001b[0m \u001b[43mchmod_func\u001b[49m\u001b[43m(\u001b[49m\u001b[43mdst\u001b[49m\u001b[43m,\u001b[49m\u001b[43m \u001b[49m\u001b[43mstat\u001b[49m\u001b[38;5;241;43m.\u001b[39;49m\u001b[43mS_IMODE\u001b[49m\u001b[43m(\u001b[49m\u001b[43mst\u001b[49m\u001b[38;5;241;43m.\u001b[39;49m\u001b[43mst_mode\u001b[49m\u001b[43m)\u001b[49m\u001b[43m)\u001b[49m\n",
      "\u001b[0;31mKeyboardInterrupt\u001b[0m: "
     ]
    }
   ],
   "source": [
    "path = '/home/jovyan/workspace-rf-classification/spectrogram_training_data_20220711/test/images'\n",
    "label_path = '/home/jovyan/workspace-rf-classification/spectrogram_training_data_20220711/test/label'\n",
    "\n",
    "data_path = '/home/jovyan/YOLOv8/yolo-data/images'\n",
    "new_label_path = '/home/jovyan/YOLOv8/yolo-data/labels'\n",
    "\n",
    "train_folder = os.path.join(data_path, 'train')\n",
    "val_folder = os.path.join(data_path, 'eval')\n",
    "test_folder = os.path.join(data_path, 'test')\n",
    "\n",
    "train_folder_label = os.path.join(new_label_path, 'train')\n",
    "val_folder_label = os.path.join(new_label_path, 'eval')\n",
    "test_folder_label = os.path.join(new_label_path, 'test')\n",
    "\n",
    "image_extensions = ['.jpg', '.jpeg', '.png', '.bmp']\n",
    "\n",
    "imgs_list = [filename for filename in os.listdir(path) if os.path.splitext(filename)[-1] in image_extensions]\n",
    "\n",
    "random.seed(42)\n",
    "\n",
    "random.shuffle(imgs_list)\n",
    "\n",
    "# determine the number of images for each set\n",
    "train_size = int(len(imgs_list) * 0.70)\n",
    "val_size = int(len(imgs_list) * 0.15)\n",
    "test_size = int(len(imgs_list) * 0.15)\n",
    "\n",
    "# Create destination folders if they don't exist\n",
    "for folder_path in [train_folder, val_folder, test_folder, train_folder_label, val_folder_label, test_folder_label]:\n",
    "    if not os.path.exists(folder_path):\n",
    "        os.makedirs(folder_path)\n",
    "\n",
    "# Copy image files to destination folders\n",
    "for i, f in enumerate(imgs_list):\n",
    "    if i < train_size:\n",
    "        dest_folder = train_folder\n",
    "        label_dest_folder = train_folder_label\n",
    "    elif i < train_size + val_size:\n",
    "        dest_folder = val_folder\n",
    "        label_dest_folder = val_folder_label\n",
    "    else:\n",
    "        dest_folder = test_folder\n",
    "        labe_dest_folder = test_folder_label\n",
    "    shutil.copy(os.path.join(path, f), os.path.join(dest_folder, f))\n",
    "    f = f.replace(\".png\", \".txt\")\n",
    "    shutil.copy(os.path.join(label_path, f), os.path.join(label_dest_folder, f))"
   ]
  },
  {
   "cell_type": "code",
   "execution_count": 1,
   "id": "3a8d9bd3-7b4a-49d1-8c73-8da251b5598a",
   "metadata": {
    "tags": []
   },
   "outputs": [
    {
     "name": "stdout",
     "output_type": "stream",
     "text": [
      "Looking in indexes: http://192.168.16.2:8080/root/pypi/+simple/, https://pypi.ngc.nvidia.com\n",
      "Requirement already satisfied: ultralytics in /usr/local/lib/python3.8/dist-packages (8.0.137)\n",
      "Requirement already satisfied: matplotlib>=3.2.2 in /usr/local/lib/python3.8/dist-packages (from ultralytics) (3.7.1)\n",
      "Requirement already satisfied: PyYAML>=5.3.1 in /usr/local/lib/python3.8/dist-packages (from ultralytics) (6.0)\n",
      "Requirement already satisfied: Pillow>=7.1.2 in /usr/local/lib/python3.8/dist-packages (from ultralytics) (9.2.0)\n",
      "Requirement already satisfied: seaborn>=0.11.0 in /usr/local/lib/python3.8/dist-packages (from ultralytics) (0.12.2)\n",
      "Requirement already satisfied: psutil in /usr/local/lib/python3.8/dist-packages (from ultralytics) (5.9.4)\n",
      "Requirement already satisfied: pandas>=1.1.4 in /usr/local/lib/python3.8/dist-packages (from ultralytics) (1.5.2)\n",
      "Requirement already satisfied: tqdm>=4.64.0 in /usr/local/lib/python3.8/dist-packages (from ultralytics) (4.65.0)\n",
      "Requirement already satisfied: opencv-python>=4.6.0 in /usr/local/lib/python3.8/dist-packages (from ultralytics) (4.8.0.74)\n",
      "Requirement already satisfied: torch>=1.7.0 in /usr/local/lib/python3.8/dist-packages (from ultralytics) (2.1.0a0+fe05266)\n",
      "Requirement already satisfied: requests>=2.23.0 in /usr/local/lib/python3.8/dist-packages (from ultralytics) (2.28.2)\n",
      "Requirement already satisfied: scipy>=1.4.1 in /usr/local/lib/python3.8/dist-packages (from ultralytics) (1.10.1)\n",
      "Requirement already satisfied: torchvision>=0.8.1 in /usr/local/lib/python3.8/dist-packages (from ultralytics) (0.15.0a0)\n",
      "Requirement already satisfied: numpy>=1.20 in /usr/local/lib/python3.8/dist-packages (from matplotlib>=3.2.2->ultralytics) (1.22.2)\n",
      "Requirement already satisfied: pyparsing>=2.3.1 in /usr/local/lib/python3.8/dist-packages (from matplotlib>=3.2.2->ultralytics) (3.0.9)\n",
      "Requirement already satisfied: cycler>=0.10 in /usr/local/lib/python3.8/dist-packages (from matplotlib>=3.2.2->ultralytics) (0.11.0)\n",
      "Requirement already satisfied: importlib-resources>=3.2.0 in /usr/local/lib/python3.8/dist-packages (from matplotlib>=3.2.2->ultralytics) (5.12.0)\n",
      "Requirement already satisfied: fonttools>=4.22.0 in /usr/local/lib/python3.8/dist-packages (from matplotlib>=3.2.2->ultralytics) (4.39.3)\n",
      "Requirement already satisfied: python-dateutil>=2.7 in /usr/local/lib/python3.8/dist-packages (from matplotlib>=3.2.2->ultralytics) (2.8.2)\n",
      "Requirement already satisfied: packaging>=20.0 in /usr/local/lib/python3.8/dist-packages (from matplotlib>=3.2.2->ultralytics) (23.0)\n",
      "Requirement already satisfied: contourpy>=1.0.1 in /usr/local/lib/python3.8/dist-packages (from matplotlib>=3.2.2->ultralytics) (1.0.7)\n",
      "Requirement already satisfied: kiwisolver>=1.0.1 in /usr/local/lib/python3.8/dist-packages (from matplotlib>=3.2.2->ultralytics) (1.4.4)\n",
      "Requirement already satisfied: zipp>=3.1.0 in /usr/local/lib/python3.8/dist-packages (from importlib-resources>=3.2.0->matplotlib>=3.2.2->ultralytics) (3.15.0)\n",
      "Requirement already satisfied: pytz>=2020.1 in /usr/local/lib/python3.8/dist-packages (from pandas>=1.1.4->ultralytics) (2023.3)\n",
      "Requirement already satisfied: six>=1.5 in /usr/local/lib/python3.8/dist-packages (from python-dateutil>=2.7->matplotlib>=3.2.2->ultralytics) (1.16.0)\n",
      "Requirement already satisfied: certifi>=2017.4.17 in /usr/local/lib/python3.8/dist-packages (from requests>=2.23.0->ultralytics) (2022.12.7)\n",
      "Requirement already satisfied: urllib3<1.27,>=1.21.1 in /usr/local/lib/python3.8/dist-packages (from requests>=2.23.0->ultralytics) (1.26.15)\n",
      "Requirement already satisfied: charset-normalizer<4,>=2 in /usr/local/lib/python3.8/dist-packages (from requests>=2.23.0->ultralytics) (3.1.0)\n",
      "Requirement already satisfied: idna<4,>=2.5 in /usr/local/lib/python3.8/dist-packages (from requests>=2.23.0->ultralytics) (3.4)\n",
      "Requirement already satisfied: filelock in /usr/local/lib/python3.8/dist-packages (from torch>=1.7.0->ultralytics) (3.11.0)\n",
      "Requirement already satisfied: typing-extensions in /usr/local/lib/python3.8/dist-packages (from torch>=1.7.0->ultralytics) (4.5.0)\n",
      "Requirement already satisfied: sympy in /usr/local/lib/python3.8/dist-packages (from torch>=1.7.0->ultralytics) (1.11.1)\n",
      "Requirement already satisfied: networkx in /usr/local/lib/python3.8/dist-packages (from torch>=1.7.0->ultralytics) (2.6.3)\n",
      "Requirement already satisfied: jinja2 in /usr/local/lib/python3.8/dist-packages (from torch>=1.7.0->ultralytics) (3.1.2)\n",
      "Requirement already satisfied: MarkupSafe>=2.0 in /usr/local/lib/python3.8/dist-packages (from jinja2->torch>=1.7.0->ultralytics) (2.1.2)\n",
      "Requirement already satisfied: mpmath>=0.19 in /usr/local/lib/python3.8/dist-packages (from sympy->torch>=1.7.0->ultralytics) (1.3.0)\n",
      "\u001b[33mWARNING: Running pip as the 'root' user can result in broken permissions and conflicting behaviour with the system package manager. It is recommended to use a virtual environment instead: https://pip.pypa.io/warnings/venv\u001b[0m\n",
      "\u001b[33mWARNING: You are using pip version 21.2.4; however, version 23.2 is available.\n",
      "You should consider upgrading via the '/usr/bin/python -m pip install --upgrade pip' command.\u001b[0m\n"
     ]
    }
   ],
   "source": [
    "!pip install ultralytics"
   ]
  },
  {
   "cell_type": "code",
   "execution_count": 2,
   "id": "f1c6a10c-cd77-494e-a971-881e9b78d050",
   "metadata": {},
   "outputs": [],
   "source": [
    "from ultralytics import YOLO\n",
    "model = YOLO('/home/jovyan/YOLOv8/results/test4/weights/best.pt')"
   ]
  },
  {
   "cell_type": "code",
   "execution_count": 3,
   "id": "02c06e41-5ce7-4483-be17-3734a3c31a9f",
   "metadata": {
    "tags": []
   },
   "outputs": [
    {
     "name": "stderr",
     "output_type": "stream",
     "text": [
      "\n",
      "image 1/1 /home/jovyan/YOLOv8/test/images/result_frame_138769090412766230_bw_25E+6.png: 128x640 1 WLAN, 102.3ms\n",
      "Speed: 4.5ms preprocess, 102.3ms inference, 415.7ms postprocess per image at shape (1, 3, 128, 640)\n",
      "Results saved to \u001b[1mruns/detect/predict\u001b[0m\n",
      "1 label saved to runs/detect/predict/labels\n"
     ]
    },
    {
     "data": {
      "text/plain": [
       "[ultralytics.engine.results.Results object with attributes:\n",
       " \n",
       " boxes: ultralytics.engine.results.Boxes object\n",
       " keypoints: None\n",
       " keys: ['boxes']\n",
       " masks: None\n",
       " names: {0: 'WLAN', 1: 'Collision', 2: 'Bluetooth'}\n",
       " orig_img: array([[[141,  96,  51],\n",
       "         [141,  96,  51],\n",
       "         [141,  94,  52],\n",
       "         ...,\n",
       "         [140, 143,  32],\n",
       "         [136, 158,  30],\n",
       "         [136, 159,  30]],\n",
       " \n",
       "        [[141,  95,  52],\n",
       "         [141,  95,  52],\n",
       "         [141, 103,  48],\n",
       "         ...,\n",
       "         [139, 147,  31],\n",
       "         [136, 159,  30],\n",
       "         [135, 160,  30]],\n",
       " \n",
       "        [[140,  89,  55],\n",
       "         [140,  90,  54],\n",
       "         [141,  96,  51],\n",
       "         ...,\n",
       "         [136, 157,  30],\n",
       "         [138, 152,  30],\n",
       "         [138, 151,  30]],\n",
       " \n",
       "        ...,\n",
       " \n",
       "        [[135,  67,  64],\n",
       "         [135,  69,  63],\n",
       "         [140,  89,  55],\n",
       "         ...,\n",
       "         [127, 175,  41],\n",
       "         [128, 173,  39],\n",
       "         [128, 173,  39]],\n",
       " \n",
       "        [[139,  86,  56],\n",
       "         [139,  86,  56],\n",
       "         [138,  77,  60],\n",
       "         ...,\n",
       "         [129, 172,  38],\n",
       "         [132, 167,  34],\n",
       "         [132, 167,  34]],\n",
       " \n",
       "        [[141, 100,  49],\n",
       "         [141,  98,  50],\n",
       "         [140,  87,  56],\n",
       "         ...,\n",
       "         [127, 174,  40],\n",
       "         [127, 175,  41],\n",
       "         [127, 175,  41]]], dtype=uint8)\n",
       " orig_shape: (192, 1024)\n",
       " path: '/home/jovyan/YOLOv8/test/images/result_frame_138769090412766230_bw_25E+6.png'\n",
       " probs: None\n",
       " save_dir: 'runs/detect/predict'\n",
       " speed: {'preprocess': 4.543781280517578, 'inference': 102.25224494934082, 'postprocess': 415.724515914917}]"
      ]
     },
     "execution_count": 3,
     "metadata": {},
     "output_type": "execute_result"
    }
   ],
   "source": [
    "\n",
    "model.predict('/home/jovyan/YOLOv8/test/images/result_frame_138769090412766230_bw_25E+6.png', save = True, save_txt= True)"
   ]
  },
  {
   "cell_type": "code",
   "execution_count": null,
   "id": "e9536eca-6b74-4a83-a4e7-83af8cbc3a1c",
   "metadata": {},
   "outputs": [],
   "source": []
  }
 ],
 "metadata": {
  "kernelspec": {
   "display_name": "Python 3 (ipykernel)",
   "language": "python",
   "name": "python3"
  },
  "language_info": {
   "codemirror_mode": {
    "name": "ipython",
    "version": 3
   },
   "file_extension": ".py",
   "mimetype": "text/x-python",
   "name": "python",
   "nbconvert_exporter": "python",
   "pygments_lexer": "ipython3",
   "version": "3.8.10"
  }
 },
 "nbformat": 4,
 "nbformat_minor": 5
}
