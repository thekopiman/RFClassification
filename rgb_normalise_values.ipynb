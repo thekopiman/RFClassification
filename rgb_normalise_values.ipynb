{
 "cells": [
  {
   "cell_type": "code",
   "execution_count": 1,
   "id": "363ea9b6-9179-49ea-8d0b-e71743fce4c4",
   "metadata": {
    "tags": []
   },
   "outputs": [],
   "source": [
    "import glob\n",
    "import os\n",
    "import cv2\n",
    "import numpy as np\n",
    "import statistics\n",
    "\n",
    "prefix = \"\\*\\\\\" if os.name == 'nt' else r\"/*/\"\n",
    "counter = 0\n",
    "rgb_mean = [[],[],[]]\n",
    "for folder in glob.glob(os.getcwd()+prefix):\n",
    "    for img in glob.glob(folder+\"*\"):\n",
    "        counter += 1\n",
    "        r = cv2.imread(img)[:,:,0]\n",
    "        g = cv2.imread(img)[:,:,1]\n",
    "        b = cv2.imread(img)[:,:,2]\n",
    "        \n",
    "        r_mean = np.mean(r)\n",
    "        g_mean = np.mean(g)\n",
    "        b_mean = np.mean(b)\n",
    "        # print(r.mean(), g.mean(), b.mean())\n",
    "        rgb_mean[0].append(r_mean)\n",
    "        rgb_mean[1].append(g_mean)\n",
    "        rgb_mean[2].append(b_mean)\n",
    "        \n",
    "\n",
    "avg_rgb_mean = [statistics.mean(i) for i in rgb_mean]\n",
    "avg_rgb_std = [statistics.stdev(i) for i in rgb_mean]\n",
    "        "
   ]
  },
  {
   "cell_type": "code",
   "execution_count": 4,
   "id": "3a6f3ba4-a572-4078-b6d0-46a46378055b",
   "metadata": {
    "tags": []
   },
   "outputs": [
    {
     "name": "stdout",
     "output_type": "stream",
     "text": [
      "[0.4923178671647495, 0.6037798837306215, 0.202537918550812]\n",
      "[0.05763036761122639, 0.13366644438090008, 0.0794249623830356]\n"
     ]
    }
   ],
   "source": [
    "print([i/255 for i in avg_rgb_mean])\n",
    "print([i/255 for i in avg_rgb_std])"
   ]
  },
  {
   "cell_type": "code",
   "execution_count": null,
   "id": "3996eb9e-19d2-4ba2-937d-492e869b9ba3",
   "metadata": {},
   "outputs": [],
   "source": []
  }
 ],
 "metadata": {
  "kernelspec": {
   "display_name": "Python 3 (ipykernel)",
   "language": "python",
   "name": "python3"
  },
  "language_info": {
   "codemirror_mode": {
    "name": "ipython",
    "version": 3
   },
   "file_extension": ".py",
   "mimetype": "text/x-python",
   "name": "python",
   "nbconvert_exporter": "python",
   "pygments_lexer": "ipython3",
   "version": "3.8.10"
  }
 },
 "nbformat": 4,
 "nbformat_minor": 5
}
